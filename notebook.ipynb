{
 "cells": [
  {
   "cell_type": "code",
   "execution_count": 158,
   "metadata": {},
   "outputs": [
    {
     "name": "stdout",
     "output_type": "stream",
     "text": [
      "SUBMISSION FORMAT DATASET\n",
      "<class 'pandas.core.frame.DataFrame'>\n",
      "RangeIndex: 26708 entries, 0 to 26707\n",
      "Data columns (total 3 columns):\n",
      " #   Column            Non-Null Count  Dtype  \n",
      "---  ------            --------------  -----  \n",
      " 0   respondent_id     26708 non-null  int64  \n",
      " 1   h1n1_vaccine      26708 non-null  float64\n",
      " 2   seasonal_vaccine  26708 non-null  float64\n",
      "dtypes: float64(2), int64(1)\n",
      "memory usage: 626.1 KB\n",
      "None\n",
      "\n",
      "TEST SET FEATURES DATASET\n",
      "<class 'pandas.core.frame.DataFrame'>\n",
      "RangeIndex: 26708 entries, 0 to 26707\n",
      "Data columns (total 36 columns):\n",
      " #   Column                       Non-Null Count  Dtype  \n",
      "---  ------                       --------------  -----  \n",
      " 0   respondent_id                26708 non-null  int64  \n",
      " 1   h1n1_concern                 26623 non-null  float64\n",
      " 2   h1n1_knowledge               26586 non-null  float64\n",
      " 3   behavioral_antiviral_meds    26629 non-null  float64\n",
      " 4   behavioral_avoidance         26495 non-null  float64\n",
      " 5   behavioral_face_mask         26689 non-null  float64\n",
      " 6   behavioral_wash_hands        26668 non-null  float64\n",
      " 7   behavioral_large_gatherings  26636 non-null  float64\n",
      " 8   behavioral_outside_home      26626 non-null  float64\n",
      " 9   behavioral_touch_face        26580 non-null  float64\n",
      " 10  doctor_recc_h1n1             24548 non-null  float64\n",
      " 11  doctor_recc_seasonal         24548 non-null  float64\n",
      " 12  chronic_med_condition        25776 non-null  float64\n",
      " 13  child_under_6_months         25895 non-null  float64\n",
      " 14  health_worker                25919 non-null  float64\n",
      " 15  health_insurance             14480 non-null  float64\n",
      " 16  opinion_h1n1_vacc_effective  26310 non-null  float64\n",
      " 17  opinion_h1n1_risk            26328 non-null  float64\n",
      " 18  opinion_h1n1_sick_from_vacc  26333 non-null  float64\n",
      " 19  opinion_seas_vacc_effective  26256 non-null  float64\n",
      " 20  opinion_seas_risk            26209 non-null  float64\n",
      " 21  opinion_seas_sick_from_vacc  26187 non-null  float64\n",
      " 22  age_group                    26708 non-null  object \n",
      " 23  education                    25301 non-null  object \n",
      " 24  race                         26708 non-null  object \n",
      " 25  sex                          26708 non-null  object \n",
      " 26  income_poverty               22211 non-null  object \n",
      " 27  marital_status               25266 non-null  object \n",
      " 28  rent_or_own                  24672 non-null  object \n",
      " 29  employment_status            25237 non-null  object \n",
      " 30  hhs_geo_region               26708 non-null  object \n",
      " 31  census_msa                   26708 non-null  object \n",
      " 32  household_adults             26483 non-null  float64\n",
      " 33  household_children           26483 non-null  float64\n",
      " 34  employment_industry          13433 non-null  object \n",
      " 35  employment_occupation        13282 non-null  object \n",
      "dtypes: float64(23), int64(1), object(12)\n",
      "memory usage: 7.3+ MB\n",
      "None\n",
      "\n",
      "TRAINING SET FEATURES DATASET\n",
      "<class 'pandas.core.frame.DataFrame'>\n",
      "RangeIndex: 26707 entries, 0 to 26706\n",
      "Data columns (total 36 columns):\n",
      " #   Column                       Non-Null Count  Dtype  \n",
      "---  ------                       --------------  -----  \n",
      " 0   respondent_id                26707 non-null  int64  \n",
      " 1   h1n1_concern                 26615 non-null  float64\n",
      " 2   h1n1_knowledge               26591 non-null  float64\n",
      " 3   behavioral_antiviral_meds    26636 non-null  float64\n",
      " 4   behavioral_avoidance         26499 non-null  float64\n",
      " 5   behavioral_face_mask         26688 non-null  float64\n",
      " 6   behavioral_wash_hands        26665 non-null  float64\n",
      " 7   behavioral_large_gatherings  26620 non-null  float64\n",
      " 8   behavioral_outside_home      26625 non-null  float64\n",
      " 9   behavioral_touch_face        26579 non-null  float64\n",
      " 10  doctor_recc_h1n1             24547 non-null  float64\n",
      " 11  doctor_recc_seasonal         24547 non-null  float64\n",
      " 12  chronic_med_condition        25736 non-null  float64\n",
      " 13  child_under_6_months         25887 non-null  float64\n",
      " 14  health_worker                25903 non-null  float64\n",
      " 15  health_insurance             14433 non-null  float64\n",
      " 16  opinion_h1n1_vacc_effective  26316 non-null  float64\n",
      " 17  opinion_h1n1_risk            26319 non-null  float64\n",
      " 18  opinion_h1n1_sick_from_vacc  26312 non-null  float64\n",
      " 19  opinion_seas_vacc_effective  26245 non-null  float64\n",
      " 20  opinion_seas_risk            26193 non-null  float64\n",
      " 21  opinion_seas_sick_from_vacc  26170 non-null  float64\n",
      " 22  age_group                    26707 non-null  object \n",
      " 23  education                    25300 non-null  object \n",
      " 24  race                         26707 non-null  object \n",
      " 25  sex                          26707 non-null  object \n",
      " 26  income_poverty               22284 non-null  object \n",
      " 27  marital_status               25299 non-null  object \n",
      " 28  rent_or_own                  24665 non-null  object \n",
      " 29  employment_status            25244 non-null  object \n",
      " 30  hhs_geo_region               26707 non-null  object \n",
      " 31  census_msa                   26707 non-null  object \n",
      " 32  household_adults             26458 non-null  float64\n",
      " 33  household_children           26458 non-null  float64\n",
      " 34  employment_industry          13377 non-null  object \n",
      " 35  employment_occupation        13237 non-null  object \n",
      "dtypes: float64(23), int64(1), object(12)\n",
      "memory usage: 7.3+ MB\n",
      "None\n",
      "\n",
      "TRAINING SET LABELS DATASET\n",
      "<class 'pandas.core.frame.DataFrame'>\n",
      "RangeIndex: 26707 entries, 0 to 26706\n",
      "Data columns (total 3 columns):\n",
      " #   Column            Non-Null Count  Dtype\n",
      "---  ------            --------------  -----\n",
      " 0   respondent_id     26707 non-null  int64\n",
      " 1   h1n1_vaccine      26707 non-null  int64\n",
      " 2   seasonal_vaccine  26707 non-null  int64\n",
      "dtypes: int64(3)\n",
      "memory usage: 626.1 KB\n",
      "None\n"
     ]
    }
   ],
   "source": [
    "import pandas as pd\n",
    "\n",
    "#loading the datasets\n",
    "submission_format = pd.read_csv('submission_format.csv')\n",
    "test_set_features = pd.read_csv('test_set_features.csv')\n",
    "training_set_features = pd.read_csv('training_set_features.csv')\n",
    "training_set_labels = pd.read_csv('training_set_labels.csv')\n",
    "\n",
    "# first few rows of each dataset\n",
    "print('SUBMISSION FORMAT DATASET')\n",
    "print(submission_format.info())\n",
    "\n",
    "print('\\nTEST SET FEATURES DATASET')\n",
    "print(test_set_features.info())\n",
    "\n",
    "print('\\nTRAINING SET FEATURES DATASET')\n",
    "print(training_set_features.info())\n",
    "\n",
    "print('\\nTRAINING SET LABELS DATASET')\n",
    "print(training_set_labels.info())\n"
   ]
  },
  {
   "cell_type": "code",
   "execution_count": 159,
   "metadata": {},
   "outputs": [
    {
     "name": "stdout",
     "output_type": "stream",
     "text": [
      "<class 'pandas.core.frame.DataFrame'>\n",
      "Int64Index: 26707 entries, 0 to 26706\n",
      "Data columns (total 38 columns):\n",
      " #   Column                       Non-Null Count  Dtype  \n",
      "---  ------                       --------------  -----  \n",
      " 0   respondent_id                26707 non-null  int64  \n",
      " 1   h1n1_concern                 26615 non-null  float64\n",
      " 2   h1n1_knowledge               26591 non-null  float64\n",
      " 3   behavioral_antiviral_meds    26636 non-null  float64\n",
      " 4   behavioral_avoidance         26499 non-null  float64\n",
      " 5   behavioral_face_mask         26688 non-null  float64\n",
      " 6   behavioral_wash_hands        26665 non-null  float64\n",
      " 7   behavioral_large_gatherings  26620 non-null  float64\n",
      " 8   behavioral_outside_home      26625 non-null  float64\n",
      " 9   behavioral_touch_face        26579 non-null  float64\n",
      " 10  doctor_recc_h1n1             24547 non-null  float64\n",
      " 11  doctor_recc_seasonal         24547 non-null  float64\n",
      " 12  chronic_med_condition        25736 non-null  float64\n",
      " 13  child_under_6_months         25887 non-null  float64\n",
      " 14  health_worker                25903 non-null  float64\n",
      " 15  health_insurance             14433 non-null  float64\n",
      " 16  opinion_h1n1_vacc_effective  26316 non-null  float64\n",
      " 17  opinion_h1n1_risk            26319 non-null  float64\n",
      " 18  opinion_h1n1_sick_from_vacc  26312 non-null  float64\n",
      " 19  opinion_seas_vacc_effective  26245 non-null  float64\n",
      " 20  opinion_seas_risk            26193 non-null  float64\n",
      " 21  opinion_seas_sick_from_vacc  26170 non-null  float64\n",
      " 22  age_group                    26707 non-null  object \n",
      " 23  education                    25300 non-null  object \n",
      " 24  race                         26707 non-null  object \n",
      " 25  sex                          26707 non-null  object \n",
      " 26  income_poverty               22284 non-null  object \n",
      " 27  marital_status               25299 non-null  object \n",
      " 28  rent_or_own                  24665 non-null  object \n",
      " 29  employment_status            25244 non-null  object \n",
      " 30  hhs_geo_region               26707 non-null  object \n",
      " 31  census_msa                   26707 non-null  object \n",
      " 32  household_adults             26458 non-null  float64\n",
      " 33  household_children           26458 non-null  float64\n",
      " 34  employment_industry          13377 non-null  object \n",
      " 35  employment_occupation        13237 non-null  object \n",
      " 36  h1n1_vaccine                 26707 non-null  int64  \n",
      " 37  seasonal_vaccine             26707 non-null  int64  \n",
      "dtypes: float64(23), int64(3), object(12)\n",
      "memory usage: 7.9+ MB\n"
     ]
    }
   ],
   "source": [
    "# Merge the Training Features dataset with the Training Labels dataset on 'respondent_id'\n",
    "train_merged = pd.merge(training_set_features, training_set_labels, on='respondent_id', how='inner')\n",
    "train_merged.info()"
   ]
  },
  {
   "cell_type": "code",
   "execution_count": 160,
   "metadata": {},
   "outputs": [],
   "source": [
    "\n",
    "# Save the merged dataset to a CSV file \n",
    "train_merged.to_csv('H1N1_and_Seasonal_Flu_Vaccine.csv', index=False)"
   ]
  },
  {
   "cell_type": "code",
   "execution_count": 161,
   "metadata": {},
   "outputs": [],
   "source": [
    "df = pd.read_csv('H1N1_and_Seasonal_Flu_Vaccine.csv')"
   ]
  },
  {
   "cell_type": "markdown",
   "metadata": {},
   "source": [
    "## Data Cleaning"
   ]
  },
  {
   "cell_type": "code",
   "execution_count": 162,
   "metadata": {},
   "outputs": [
    {
     "data": {
      "text/plain": [
       "0        False\n",
       "1        False\n",
       "2        False\n",
       "3        False\n",
       "4        False\n",
       "         ...  \n",
       "26702    False\n",
       "26703    False\n",
       "26704    False\n",
       "26705    False\n",
       "26706    False\n",
       "Length: 26707, dtype: bool"
      ]
     },
     "execution_count": 162,
     "metadata": {},
     "output_type": "execute_result"
    }
   ],
   "source": [
    "# checking for duplicates\n",
    "df.duplicated()\n"
   ]
  },
  {
   "cell_type": "code",
   "execution_count": 163,
   "metadata": {},
   "outputs": [
    {
     "data": {
      "text/plain": [
       "respondent_id                      0\n",
       "h1n1_concern                      92\n",
       "h1n1_knowledge                   116\n",
       "behavioral_antiviral_meds         71\n",
       "behavioral_avoidance             208\n",
       "behavioral_face_mask              19\n",
       "behavioral_wash_hands             42\n",
       "behavioral_large_gatherings       87\n",
       "behavioral_outside_home           82\n",
       "behavioral_touch_face            128\n",
       "doctor_recc_h1n1                2160\n",
       "doctor_recc_seasonal            2160\n",
       "chronic_med_condition            971\n",
       "child_under_6_months             820\n",
       "health_worker                    804\n",
       "health_insurance               12274\n",
       "opinion_h1n1_vacc_effective      391\n",
       "opinion_h1n1_risk                388\n",
       "opinion_h1n1_sick_from_vacc      395\n",
       "opinion_seas_vacc_effective      462\n",
       "opinion_seas_risk                514\n",
       "opinion_seas_sick_from_vacc      537\n",
       "age_group                          0\n",
       "education                       1407\n",
       "race                               0\n",
       "sex                                0\n",
       "income_poverty                  4423\n",
       "marital_status                  1408\n",
       "rent_or_own                     2042\n",
       "employment_status               1463\n",
       "hhs_geo_region                     0\n",
       "census_msa                         0\n",
       "household_adults                 249\n",
       "household_children               249\n",
       "employment_industry            13330\n",
       "employment_occupation          13470\n",
       "h1n1_vaccine                       0\n",
       "seasonal_vaccine                   0\n",
       "dtype: int64"
      ]
     },
     "execution_count": 163,
     "metadata": {},
     "output_type": "execute_result"
    }
   ],
   "source": [
    "# checking for missing values\n",
    "df.isnull().sum()"
   ]
  },
  {
   "cell_type": "code",
   "execution_count": 164,
   "metadata": {},
   "outputs": [
    {
     "data": {
      "text/plain": [
       "employment_occupation          50.436215\n",
       "employment_industry            49.912008\n",
       "health_insurance               45.957989\n",
       "income_poverty                 16.561201\n",
       "doctor_recc_seasonal            8.087767\n",
       "doctor_recc_h1n1                8.087767\n",
       "rent_or_own                     7.645936\n",
       "employment_status               5.477965\n",
       "marital_status                  5.272026\n",
       "education                       5.268282\n",
       "chronic_med_condition           3.635751\n",
       "child_under_6_months            3.070356\n",
       "health_worker                   3.010447\n",
       "opinion_seas_sick_from_vacc     2.010709\n",
       "opinion_seas_risk               1.924589\n",
       "opinion_seas_vacc_effective     1.729884\n",
       "opinion_h1n1_sick_from_vacc     1.479013\n",
       "opinion_h1n1_vacc_effective     1.464036\n",
       "opinion_h1n1_risk               1.452803\n",
       "household_adults                0.932340\n",
       "household_children              0.932340\n",
       "behavioral_avoidance            0.778822\n",
       "behavioral_touch_face           0.479275\n",
       "h1n1_knowledge                  0.434343\n",
       "h1n1_concern                    0.344479\n",
       "behavioral_large_gatherings     0.325757\n",
       "behavioral_outside_home         0.307036\n",
       "behavioral_antiviral_meds       0.265848\n",
       "behavioral_wash_hands           0.157262\n",
       "behavioral_face_mask            0.071142\n",
       "dtype: float64"
      ]
     },
     "execution_count": 164,
     "metadata": {},
     "output_type": "execute_result"
    }
   ],
   "source": [
    "missing_data = df.isnull().mean() * 100\n",
    "missing_data = missing_data[missing_data > 0].sort_values(ascending=False)\n",
    "missing_data"
   ]
  },
  {
   "cell_type": "markdown",
   "metadata": {},
   "source": [
    "The columns with high percentages of misssing values should be dropped.\n",
    "\n",
    "The rest of the columns with very low percentages of missing data I'll result to just dropping the rows.\n"
   ]
  },
  {
   "cell_type": "code",
   "execution_count": 165,
   "metadata": {},
   "outputs": [],
   "source": [
    "# drop columns\n",
    "df.drop(columns=['employment_industry','employment_occupation','health_insurance'],inplace=True)\n"
   ]
  },
  {
   "cell_type": "code",
   "execution_count": null,
   "metadata": {},
   "outputs": [
    {
     "data": {
      "text/plain": [
       "0"
      ]
     },
     "execution_count": 166,
     "metadata": {},
     "output_type": "execute_result"
    }
   ],
   "source": [
    "#drop rows\n",
    "df.dropna(inplace=True)\n",
    "df.isnull().sum().sum()# confirms if there are anymore missing values in the data"
   ]
  },
  {
   "cell_type": "code",
   "execution_count": 168,
   "metadata": {},
   "outputs": [
    {
     "name": "stdout",
     "output_type": "stream",
     "text": [
      "Column: respondent_id\n",
      "Unique values (19642): [    0     1     3 ... 26702 26703 26706]\n",
      "--------------------------------------------------\n",
      "Column: h1n1_concern\n",
      "Unique values (4): [1. 3. 2. 0.]\n",
      "--------------------------------------------------\n",
      "Column: h1n1_knowledge\n",
      "Unique values (3): [0. 2. 1.]\n",
      "--------------------------------------------------\n",
      "Column: behavioral_antiviral_meds\n",
      "Unique values (2): [0. 1.]\n",
      "--------------------------------------------------\n",
      "Column: behavioral_avoidance\n",
      "Unique values (2): [0. 1.]\n",
      "--------------------------------------------------\n",
      "Column: behavioral_face_mask\n",
      "Unique values (2): [0. 1.]\n",
      "--------------------------------------------------\n",
      "Column: behavioral_wash_hands\n",
      "Unique values (2): [0. 1.]\n",
      "--------------------------------------------------\n",
      "Column: behavioral_large_gatherings\n",
      "Unique values (2): [0. 1.]\n",
      "--------------------------------------------------\n",
      "Column: behavioral_outside_home\n",
      "Unique values (2): [1. 0.]\n",
      "--------------------------------------------------\n",
      "Column: behavioral_touch_face\n",
      "Unique values (2): [1. 0.]\n",
      "--------------------------------------------------\n",
      "Column: doctor_recc_h1n1\n",
      "Unique values (2): [0. 1.]\n",
      "--------------------------------------------------\n",
      "Column: doctor_recc_seasonal\n",
      "Unique values (2): [0. 1.]\n",
      "--------------------------------------------------\n",
      "Column: chronic_med_condition\n",
      "Unique values (2): [0. 1.]\n",
      "--------------------------------------------------\n",
      "Column: child_under_6_months\n",
      "Unique values (2): [0. 1.]\n",
      "--------------------------------------------------\n",
      "Column: health_worker\n",
      "Unique values (2): [0. 1.]\n",
      "--------------------------------------------------\n",
      "Column: opinion_h1n1_vacc_effective\n",
      "Unique values (5): [3. 5. 4. 2. 1.]\n",
      "--------------------------------------------------\n",
      "Column: opinion_h1n1_risk\n",
      "Unique values (5): [1. 4. 3. 2. 5.]\n",
      "--------------------------------------------------\n",
      "Column: opinion_h1n1_sick_from_vacc\n",
      "Unique values (5): [2. 4. 5. 1. 3.]\n",
      "--------------------------------------------------\n",
      "Column: opinion_seas_vacc_effective\n",
      "Unique values (5): [2. 4. 5. 3. 1.]\n",
      "--------------------------------------------------\n",
      "Column: opinion_seas_risk\n",
      "Unique values (5): [1. 2. 4. 3. 5.]\n",
      "--------------------------------------------------\n",
      "Column: opinion_seas_sick_from_vacc\n",
      "Unique values (5): [2. 4. 1. 5. 3.]\n",
      "--------------------------------------------------\n",
      "Column: age_group\n",
      "Unique values (5): ['55 - 64 Years' '35 - 44 Years' '65+ Years' '45 - 54 Years'\n",
      " '18 - 34 Years']\n",
      "--------------------------------------------------\n",
      "Column: education\n",
      "Unique values (4): ['< 12 Years' '12 Years' 'Some College' 'College Graduate']\n",
      "--------------------------------------------------\n",
      "Column: race\n",
      "Unique values (4): ['White' 'Black' 'Hispanic' 'Other or Multiple']\n",
      "--------------------------------------------------\n",
      "Column: sex\n",
      "Unique values (2): ['Female' 'Male']\n",
      "--------------------------------------------------\n",
      "Column: income_poverty\n",
      "Unique values (3): ['Below Poverty' '<= $75,000, Above Poverty' '> $75,000']\n",
      "--------------------------------------------------\n",
      "Column: marital_status\n",
      "Unique values (2): ['Not Married' 'Married']\n",
      "--------------------------------------------------\n",
      "Column: rent_or_own\n",
      "Unique values (2): ['Own' 'Rent']\n",
      "--------------------------------------------------\n",
      "Column: employment_status\n",
      "Unique values (3): ['Not in Labor Force' 'Employed' 'Unemployed']\n",
      "--------------------------------------------------\n",
      "Column: hhs_geo_region\n",
      "Unique values (10): ['oxchjgsf' 'bhuqouqj' 'lrircsnp' 'qufhixun' 'atmpeygn' 'lzgpxyit'\n",
      " 'fpwskwrf' 'mlyzmhmf' 'dqpwygqj' 'kbazzjca']\n",
      "--------------------------------------------------\n",
      "Column: census_msa\n",
      "Unique values (3): ['Non-MSA' 'MSA, Not Principle  City' 'MSA, Principle City']\n",
      "--------------------------------------------------\n",
      "Column: household_adults\n",
      "Unique values (4): [0. 1. 2. 3.]\n",
      "--------------------------------------------------\n",
      "Column: household_children\n",
      "Unique values (4): [0. 3. 2. 1.]\n",
      "--------------------------------------------------\n",
      "Column: h1n1_vaccine\n",
      "Unique values (2): [0 1]\n",
      "--------------------------------------------------\n",
      "Column: seasonal_vaccine\n",
      "Unique values (2): [0 1]\n",
      "--------------------------------------------------\n"
     ]
    }
   ],
   "source": [
    "#checking the number of unique values in each column\n",
    "# Iterate over each column and print unique values\n",
    "for col in df.columns:\n",
    "    unique_values = df[col].unique()\n",
    "    print(f\"Column: {col}\")\n",
    "    print(f\"Unique values ({len(unique_values)}): {unique_values}\")\n",
    "    print(\"-\" * 50)"
   ]
  },
  {
   "cell_type": "markdown",
   "metadata": {},
   "source": [
    "## Exploratory Data Analysis "
   ]
  },
  {
   "cell_type": "code",
   "execution_count": 169,
   "metadata": {},
   "outputs": [
    {
     "data": {
      "text/plain": [
       "0    0.522045\n",
       "1    0.477955\n",
       "Name: seasonal_vaccine, dtype: float64"
      ]
     },
     "execution_count": 169,
     "metadata": {},
     "output_type": "execute_result"
    }
   ],
   "source": [
    "df['seasonal_vaccine'].value_counts(normalize=True)\n"
   ]
  },
  {
   "cell_type": "code",
   "execution_count": 171,
   "metadata": {},
   "outputs": [
    {
     "data": {
      "text/plain": [
       "0    0.770186\n",
       "1    0.229814\n",
       "Name: h1n1_vaccine, dtype: float64"
      ]
     },
     "execution_count": 171,
     "metadata": {},
     "output_type": "execute_result"
    }
   ],
   "source": [
    "df['h1n1_vaccine'].value_counts(normalize=True)"
   ]
  },
  {
   "cell_type": "code",
   "execution_count": null,
   "metadata": {},
   "outputs": [],
   "source": []
  }
 ],
 "metadata": {
  "kernelspec": {
   "display_name": "learn-env",
   "language": "python",
   "name": "python3"
  },
  "language_info": {
   "codemirror_mode": {
    "name": "ipython",
    "version": 3
   },
   "file_extension": ".py",
   "mimetype": "text/x-python",
   "name": "python",
   "nbconvert_exporter": "python",
   "pygments_lexer": "ipython3",
   "version": "3.8.5"
  }
 },
 "nbformat": 4,
 "nbformat_minor": 2
}
